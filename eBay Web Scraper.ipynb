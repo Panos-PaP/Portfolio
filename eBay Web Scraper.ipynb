{
 "cells": [
  {
   "cell_type": "code",
   "execution_count": 51,
   "id": "824c59cb",
   "metadata": {},
   "outputs": [],
   "source": [
    "from bs4 import BeautifulSoup\n",
    "import requests\n",
    "import time \n",
    "import datetime\n",
    "import smtplib\n",
    "import csv"
   ]
  },
  {
   "cell_type": "markdown",
   "id": "033b5316",
   "metadata": {},
   "source": [
    "# Collecting and preparing the data\n",
    "## Here is the completed project in parts"
   ]
  },
  {
   "cell_type": "code",
   "execution_count": 52,
   "id": "ec60b99f",
   "metadata": {},
   "outputs": [
    {
     "name": "stdout",
     "output_type": "stream",
     "text": [
      "\n",
      "           Size 9.5 - Nike Air Force 1 Low 2006 Playstation Promo Sample Patent Leather\n",
      "          \n",
      "\n",
      "\n",
      "                     EUR 20,498.49\n",
      "                     \n",
      "\n",
      "\n",
      "\n",
      "                11 watchers\n",
      "                \n",
      "\n"
     ]
    }
   ],
   "source": [
    "# Connect to website\n",
    "URL = \"https://www.ebay.com/itm/165943462771?epid=6046762960&hash=item26a3004b73:g:C5sAAOSwj0xj0~Yr&amdata=enc%3AAQAHAAAA8MonmTd%2BVubxCFy%2BPUEOm28RAZP0MlkHOk1jvZ2obbB6izCI4ghiC0%2BxBITu%2F2GaeLi0KxUy577vS9udfcWBQNcCiPzzacRTVO1RSj4s8%2FRpcoaeQVhwgROmlpx2Ih0gdjlGHAyfU%2BMn5S5akUooMBvbeJdW4HpF1CEasZBgAq6WtnNQeCepmyvYLgLclSeQc3IvQAdU8%2BD1ll3EkfACM4ceN0XSeN5I6%2Bj2ww3JMfZIqXCw7jswNcY%2FsfP9Ks%2Bl0ANMawYldFV3cWlRJEjbhzAIkA42C%2BL0lE1Amlxn495RkLwrNeRFzIiP6QbMuJg%2F%2BQ%3D%3D%7Ctkp%3ABk9SR7yRl8vbYQ\"\n",
    "headers =  {\"User-Agent\": \"Mozilla/5.0 (Windows NT 10.0; Win64; x64) AppleWebKit/537.36 (KHTML, like Gecko) Chrome/111.0.0.0 Safari/537.36\"}\n",
    "    \n",
    "page = requests.get(URL, headers=headers)\n",
    "\n",
    "soup1 = BeautifulSoup(page.content, \"html.parser\")\n",
    "# Because soup1 = soup1.prettify() converts soup1 object to string type\n",
    "soup2 = BeautifulSoup(soup1.prettify(), \"html.parser\")\n",
    "#print(soup2)\n",
    "\n",
    "productTitle = soup2.find(id = \"vi-lkhdr-itmTitl\").get_text()\n",
    "print(productTitle)\n",
    " \n",
    "price_euro = soup2.find(class_ = \"ux-textspans ux-textspans--SECONDARY ux-textspans--BOLD\").get_text()\n",
    "print(price_euro)\n",
    "\n",
    "watchers = soup2.find(class_ = \"ux-textspans ux-textspans--EMPHASIS ux-textspans--BOLD\").get_text()\n",
    "print(watchers)"
   ]
  },
  {
   "cell_type": "code",
   "execution_count": 53,
   "id": "1b510a23",
   "metadata": {},
   "outputs": [
    {
     "name": "stdout",
     "output_type": "stream",
     "text": [
      "Size 9.5 - Nike Air Force 1 Low 2006 Playstation Promo Sample Patent Leather\n",
      "20498.49\n",
      "11 \n",
      "2023-03-14\n"
     ]
    }
   ],
   "source": [
    "# We need to strip these strings\n",
    "productTitle = productTitle.strip()\n",
    "print(productTitle)\n",
    "\n",
    "\n",
    "# We don't want  'EUR ' in front of the price so we keep from 4th char and after\n",
    "price_euro = price_euro.strip()[4:]\n",
    "print(price_euro.replace(',',''))\n",
    "\n",
    "\n",
    "watchers = watchers.strip()[:3]\n",
    "print(watchers)\n",
    "\n",
    "\n",
    "today = datetime.date.today()\n",
    "print(today)"
   ]
  },
  {
   "cell_type": "code",
   "execution_count": 54,
   "id": "8ab5d10e",
   "metadata": {},
   "outputs": [],
   "source": [
    "# Create a csv to import scraped data\n",
    "import csv \n",
    "\n",
    "header = ['ProductTitle', 'PriceEuro', 'Watchers', 'Today']\n",
    "data =  [productTitle, price_euro, watchers, today]\n",
    "\n",
    "\n",
    "with open(\"eBayScrapedData.csv\", 'w', newline='', encoding='UTF8') as f:\n",
    "    writer = csv.writer(f)\n",
    "    writer.writerow(header)\n",
    "    writer.writerow(data)\n"
   ]
  },
  {
   "cell_type": "code",
   "execution_count": 55,
   "id": "d3178bcb",
   "metadata": {},
   "outputs": [],
   "source": [
    "with open(\"eBayScrapedData.csv\", 'a+', newline='', encoding='UTF8') as f:\n",
    "        writer = csv.writer(f)\n",
    "        writer.writerow(data)"
   ]
  },
  {
   "cell_type": "code",
   "execution_count": 56,
   "id": "0fb20836",
   "metadata": {},
   "outputs": [
    {
     "name": "stdout",
     "output_type": "stream",
     "text": [
      "                                        ProductTitle  PriceEuro  Watchers  \\\n",
      "0  Size 9.5 - Nike Air Force 1 Low 2006 Playstati...  20,498.49        11   \n",
      "1  Size 9.5 - Nike Air Force 1 Low 2006 Playstati...  20,498.49        11   \n",
      "\n",
      "        Today  \n",
      "0  2023-03-14  \n",
      "1  2023-03-14  \n"
     ]
    }
   ],
   "source": [
    "import pandas as pd\n",
    "\n",
    "df = pd.read_csv(r\"C:yourPath\\eBayScrapedData.csv\")\n",
    "\n",
    "print(df)\n"
   ]
  },
  {
   "cell_type": "code",
   "execution_count": 57,
   "id": "1f9f5150",
   "metadata": {},
   "outputs": [],
   "source": [
    "# Now we are appending another row to the csv\n",
    "\n",
    "with open(\"eBayScrapedData.csv\", 'a+', newline='', encoding='UTF8') as f:\n",
    "    writer = csv.writer(f)\n",
    "    writer.writerow(data)"
   ]
  },
  {
   "cell_type": "markdown",
   "id": "37b52e23",
   "metadata": {},
   "source": [
    "# Creating an automated script to send us email when the price drops!! "
   ]
  },
  {
   "cell_type": "code",
   "execution_count": 58,
   "id": "f1d820bf",
   "metadata": {},
   "outputs": [],
   "source": [
    "# First of all,we need to create the csv file with the header\n",
    "header = ['ProductTitle', 'PriceEuro', 'Watchers', 'Today']\n",
    "with open(\"eBayScrapedData.csv\", 'w', newline='', encoding='UTF8') as f:\n",
    "    writer = csv.writer(f)\n",
    "    writer.writerow(header)"
   ]
  },
  {
   "cell_type": "code",
   "execution_count": 71,
   "id": "e3bf8ec8",
   "metadata": {},
   "outputs": [],
   "source": [
    "def send_mail(desire_price):\n",
    "        \n",
    "    subject = f'The Nike Air Force you want is under {desire_price} Euro'\n",
    "    body = 'Panagiotis Papastathis \\n Now is your chance to buy your desire sneaker!'\n",
    "\n",
    "    msg = f\"Subject: {subject}\\n\\n{body}\"\n",
    "    with  smtplib.SMTP('outlook.office365.com',587) as server:\n",
    "        #server.ehlo() #Can be removed because login tries it by its own if there is no previous ehlo() command\n",
    "        server.starttls()\n",
    "        server.login('youremail@outlook-hotmail.com','xxxxxxxxxxxxxxx')\n",
    "        server.sendmail('youremail@outlook-hotmail.com','youremail@outlook-hotmail.com',msg)\n",
    "    \n",
    "    server.close()"
   ]
  },
  {
   "cell_type": "code",
   "execution_count": 72,
   "id": "74159b20",
   "metadata": {},
   "outputs": [],
   "source": [
    "def check_price():\n",
    "    URL = \"https://www.ebay.com/itm/165943462771?epid=6046762960&hash=item26a3004b73:g:C5sAAOSwj0xj0~Yr&amdata=enc%3AAQAHAAAA8MonmTd%2BVubxCFy%2BPUEOm28RAZP0MlkHOk1jvZ2obbB6izCI4ghiC0%2BxBITu%2F2GaeLi0KxUy577vS9udfcWBQNcCiPzzacRTVO1RSj4s8%2FRpcoaeQVhwgROmlpx2Ih0gdjlGHAyfU%2BMn5S5akUooMBvbeJdW4HpF1CEasZBgAq6WtnNQeCepmyvYLgLclSeQc3IvQAdU8%2BD1ll3EkfACM4ceN0XSeN5I6%2Bj2ww3JMfZIqXCw7jswNcY%2FsfP9Ks%2Bl0ANMawYldFV3cWlRJEjbhzAIkA42C%2BL0lE1Amlxn495RkLwrNeRFzIiP6QbMuJg%2F%2BQ%3D%3D%7Ctkp%3ABk9SR7yRl8vbYQ\"\n",
    "    headers =  {\"User-Agent\": \"Mozilla/5.0 (Windows NT 10.0; Win64; x64) AppleWebKit/537.36 (KHTML, like Gecko) Chrome/111.0.0.0 Safari/537.36\"}\n",
    "\n",
    "    page = requests.get(URL, headers=headers)\n",
    "\n",
    "    soup1 = BeautifulSoup(page.content, \"html.parser\")\n",
    "    # Because soup1 = soup1.prettify() converts soup1 object to string type\n",
    "    soup2 = BeautifulSoup(soup1.prettify(), \"html.parser\")\n",
    "\n",
    "    productTitle = soup2.find(id = \"vi-lkhdr-itmTitl\").get_text()\n",
    "    price_euro = soup2.find(class_ = \"ux-textspans ux-textspans--SECONDARY ux-textspans--BOLD\").get_text()\n",
    "    watchers = soup2.find(class_ = \"ux-textspans ux-textspans--EMPHASIS ux-textspans--BOLD\").get_text()\n",
    "    \n",
    "    \n",
    "    productTitle = productTitle.strip()\n",
    "    price_euro = price_euro.strip()[4:]\n",
    "    #In order to convert it later in float and compare it with our desire price we must replace ',' with ''\n",
    "    price_euro = price_euro.replace(',','')\n",
    "    watchers = watchers.strip()[:3]\n",
    "    \n",
    "    today = datetime.date.today()\n",
    "\n",
    "    \n",
    "    data =  [productTitle, price_euro, watchers, today]\n",
    "\n",
    "    desire_price = 21000\n",
    "    with open(\"eBayScrapedData.csv\", 'a+', newline='', encoding='UTF8') as f:\n",
    "        writer = csv.writer(f)\n",
    "        writer.writerow(data)\n",
    "\n",
    "        \n",
    "    if float(price_euro)<desire_price:\n",
    "        send_mail(desire_price)"
   ]
  },
  {
   "cell_type": "code",
   "execution_count": null,
   "id": "1f401800",
   "metadata": {},
   "outputs": [],
   "source": [
    "while(True):\n",
    "    check_price()\n",
    "    # Making it to check the price every 3 hours 648000 \n",
    "    time.sleep(60)"
   ]
  }
 ],
 "metadata": {
  "kernelspec": {
   "display_name": "Python 3 (ipykernel)",
   "language": "python",
   "name": "python3"
  },
  "language_info": {
   "codemirror_mode": {
    "name": "ipython",
    "version": 3
   },
   "file_extension": ".py",
   "mimetype": "text/x-python",
   "name": "python",
   "nbconvert_exporter": "python",
   "pygments_lexer": "ipython3",
   "version": "3.10.8"
  }
 },
 "nbformat": 4,
 "nbformat_minor": 5
}
